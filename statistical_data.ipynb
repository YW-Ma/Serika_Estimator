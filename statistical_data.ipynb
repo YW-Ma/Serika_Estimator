{
 "cells": [
  {
   "cell_type": "markdown",
   "id": "4bd0b232-26ff-4f77-aab2-a4c9f61e10f4",
   "metadata": {},
   "source": [
    "# Statistical Data for the dataset"
   ]
  },
  {
   "cell_type": "code",
   "execution_count": 51,
   "id": "f3649260-14f5-40c4-8f05-970709e1cf1c",
   "metadata": {},
   "outputs": [],
   "source": [
    "pwd = './'"
   ]
  },
  {
   "cell_type": "code",
   "execution_count": 52,
   "id": "b1bf42ce-84d1-4b39-a074-cb4bd4e612c0",
   "metadata": {},
   "outputs": [],
   "source": [
    "import numpy as np\n",
    "from PIL import Image\n",
    "from matplotlib import cm\n",
    "import os\n",
    "from torch.utils import data\n",
    "from torch.utils.data import Dataset, dataset\n",
    "import matplotlib.pyplot as plt\n",
    "from scipy import signal\n",
    "from scipy.io import wavfile\n",
    "from pathlib import Path \n",
    "from tqdm import tqdm\n",
    "from numpy import asarray\n",
    "from numpy import save\n",
    "import json\n",
    "import torch\n",
    "\n",
    "import torchaudio\n",
    "import torchaudio.functional as F\n",
    "import torchaudio.transforms as T\n",
    "import librosa\n",
    "import torch.nn as nn"
   ]
  },
  {
   "cell_type": "code",
   "execution_count": 53,
   "id": "9af00a15-252f-4e83-b0e8-6e031c6c5067",
   "metadata": {},
   "outputs": [],
   "source": [
    "pwd = './'\n",
    "wav_dir = pwd + \"225D_DataSet/wav_files/\"\n",
    "npy_dir = pwd + \"225D_DataSet/npy/\"\n",
    "json_dir = pwd + \"225D_DataSet/json/\"\n",
    "txt_dir = pwd + \"225D_DataSet/txt/\"\n",
    "label_dir = pwd + \"225D_DataSet/label/\""
   ]
  },
  {
   "cell_type": "markdown",
   "id": "9e26d9a4-571f-4619-bcce-ad7d276b0714",
   "metadata": {},
   "source": [
    "## 1 Age Group"
   ]
  },
  {
   "cell_type": "code",
   "execution_count": 54,
   "id": "d235316d-8584-4838-84ba-04326b0987f0",
   "metadata": {},
   "outputs": [
    {
     "name": "stderr",
     "output_type": "stream",
     "text": [
      "100%|██████████| 27219/27219 [00:00<00:00, 27336.24it/s]\n"
     ]
    }
   ],
   "source": [
    "from collections import defaultdict\n",
    "\n",
    "age_group_data = defaultdict(int)\n",
    "age_data = []\n",
    "for file in tqdm(os.listdir(label_dir)):\n",
    "    label_path = os.path.join(label_dir, file)\n",
    "    # normalize to [0,1]\n",
    "    with open(label_path) as f:\n",
    "        data = json.load(f)\n",
    "        # get age\n",
    "        age = data['age']\n",
    "        age_data.append(age)\n",
    "        # get age group\n",
    "        age_group_data[data['age_group']] += 1 "
   ]
  },
  {
   "cell_type": "code",
   "execution_count": 55,
   "id": "c2c48325-2ebf-47be-9115-d6666f57d7c7",
   "metadata": {},
   "outputs": [
    {
     "data": {
      "text/plain": [
       "(array([3.000e+00, 5.000e+00, 1.600e+01, 2.400e+01, 6.300e+01, 9.800e+01,\n",
       "        1.120e+02, 1.660e+02, 2.390e+02, 2.790e+02, 3.540e+02, 4.630e+02,\n",
       "        5.240e+02, 6.030e+02, 6.470e+02, 7.140e+02, 7.190e+02, 9.680e+02,\n",
       "        9.820e+02, 1.152e+03, 1.177e+03, 1.443e+03, 1.410e+03, 1.534e+03,\n",
       "        1.297e+03, 1.213e+03, 1.074e+03, 9.550e+02, 7.930e+02, 6.800e+02,\n",
       "        6.300e+02, 5.570e+02, 5.560e+02, 4.110e+02, 5.130e+02, 4.230e+02,\n",
       "        3.320e+02, 3.940e+02, 3.030e+02, 3.390e+02, 2.720e+02, 2.380e+02,\n",
       "        2.690e+02, 2.280e+02, 1.980e+02, 1.970e+02, 1.890e+02, 1.520e+02,\n",
       "        1.450e+02, 1.350e+02, 1.270e+02, 9.900e+01, 1.020e+02, 6.700e+01,\n",
       "        6.700e+01, 6.900e+01, 4.700e+01, 5.900e+01, 3.600e+01, 3.400e+01,\n",
       "        2.600e+01, 3.100e+01, 2.600e+01, 2.400e+01, 2.100e+01, 2.500e+01,\n",
       "        1.600e+01, 2.400e+01, 1.800e+01, 2.100e+01, 4.000e+00, 8.000e+00,\n",
       "        5.000e+00, 8.000e+00, 6.000e+00, 6.000e+00, 5.000e+00, 5.000e+00,\n",
       "        5.000e+00, 4.000e+00, 6.000e+00, 6.000e+00, 1.000e+00, 2.000e+00,\n",
       "        1.000e+00, 3.000e+00, 3.000e+00, 0.000e+00, 5.000e+00, 2.000e+00,\n",
       "        0.000e+00, 3.000e+00, 0.000e+00, 1.000e+00, 0.000e+00, 0.000e+00,\n",
       "        2.000e+00, 0.000e+00, 0.000e+00, 1.000e+00]),\n",
       " array([19.66666667, 20.17625   , 20.68583333, 21.19541667, 21.705     ,\n",
       "        22.21458333, 22.72416667, 23.23375   , 23.74333333, 24.25291667,\n",
       "        24.7625    , 25.27208333, 25.78166667, 26.29125   , 26.80083333,\n",
       "        27.31041667, 27.82      , 28.32958333, 28.83916667, 29.34875   ,\n",
       "        29.85833333, 30.36791667, 30.8775    , 31.38708333, 31.89666667,\n",
       "        32.40625   , 32.91583333, 33.42541667, 33.935     , 34.44458333,\n",
       "        34.95416667, 35.46375   , 35.97333333, 36.48291667, 36.9925    ,\n",
       "        37.50208333, 38.01166667, 38.52125   , 39.03083333, 39.54041667,\n",
       "        40.05      , 40.55958333, 41.06916667, 41.57875   , 42.08833333,\n",
       "        42.59791667, 43.1075    , 43.61708333, 44.12666667, 44.63625   ,\n",
       "        45.14583333, 45.65541667, 46.165     , 46.67458333, 47.18416667,\n",
       "        47.69375   , 48.20333333, 48.71291667, 49.2225    , 49.73208333,\n",
       "        50.24166667, 50.75125   , 51.26083333, 51.77041667, 52.28      ,\n",
       "        52.78958333, 53.29916667, 53.80875   , 54.31833333, 54.82791667,\n",
       "        55.3375    , 55.84708333, 56.35666667, 56.86625   , 57.37583333,\n",
       "        57.88541667, 58.395     , 58.90458333, 59.41416667, 59.92375   ,\n",
       "        60.43333333, 60.94291667, 61.4525    , 61.96208333, 62.47166667,\n",
       "        62.98125   , 63.49083333, 64.00041667, 64.51      , 65.01958333,\n",
       "        65.52916667, 66.03875   , 66.54833333, 67.05791667, 67.5675    ,\n",
       "        68.07708333, 68.58666667, 69.09625   , 69.60583333, 70.11541667,\n",
       "        70.625     ]),\n",
       " <BarContainer object of 100 artists>)"
      ]
     },
     "execution_count": 55,
     "metadata": {},
     "output_type": "execute_result"
    },
    {
     "data": {
      "image/png": "[encoded data removed]",
      "text/plain": [
       "<Figure size 432x288 with 1 Axes>"
      ]
     },
     "metadata": {
      "needs_background": "light"
     },
     "output_type": "display_data"
    }
   ],
   "source": [
    "plt.hist(age_data, bins=100)"
   ]
  },
  {
   "cell_type": "code",
   "execution_count": 56,
   "id": "5c2002ae-87fc-490e-8384-9172acbe8dcb",
   "metadata": {},
   "outputs": [
    {
     "data": {
      "text/plain": [
       "<BarContainer object of 10 artists>"
      ]
     },
     "execution_count": 56,
     "metadata": {},
     "output_type": "execute_result"
    },
    {
     "data": {
      "image/png": "[encoded data removed]",
      "text/plain": [
       "<Figure size 432x288 with 1 Axes>"
      ]
     },
     "metadata": {
      "needs_background": "light"
     },
     "output_type": "display_data"
    }
   ],
   "source": [
    "plt.bar(age_group_data.keys(), age_group_data.values())"
   ]
  },
  {
   "cell_type": "markdown",
   "id": "2f6f1e05-5794-4c04-a2a1-87d5c696042d",
   "metadata": {},
   "source": [
    "## 2 Gender"
   ]
  },
  {
   "cell_type": "code",
   "execution_count": 57,
   "id": "7253856e-2f28-482e-a3d2-4af6480bd14d",
   "metadata": {},
   "outputs": [
    {
     "name": "stderr",
     "output_type": "stream",
     "text": [
      "100%|██████████| 27219/27219 [00:01<00:00, 26011.83it/s]\n"
     ]
    },
    {
     "data": {
      "text/plain": [
       "([<matplotlib.patches.Wedge at 0x7f64ec9c9210>,\n",
       "  <matplotlib.patches.Wedge at 0x7f64ec9c9b50>],\n",
       " [Text(-0.39455434475510787, 1.0268042018977463, 'male'),\n",
       "  Text(0.39455434475510776, -1.0268042018977463, 'female')],\n",
       " [Text(-0.21521146077551337, 0.5600750192169525, '61.68%'),\n",
       "  Text(0.21521146077551329, -0.5600750192169525, '38.32%')])"
      ]
     },
     "execution_count": 57,
     "metadata": {},
     "output_type": "execute_result"
    },
    {
     "data": {
      "image/png": "[encoded data removed]",
      "text/plain": [
       "<Figure size 432x288 with 1 Axes>"
      ]
     },
     "metadata": {},
     "output_type": "display_data"
    }
   ],
   "source": [
    "male = 0\n",
    "female = 0\n",
    "for file in tqdm(os.listdir(label_dir)):\n",
    "    label_path = os.path.join(label_dir, file)\n",
    "    with open(label_path) as f:\n",
    "        data = json.load(f)\n",
    "        # get gender\n",
    "        gender = data['gender']\n",
    "        if gender == 0:\n",
    "            male += 1\n",
    "        else:\n",
    "            female += 1\n",
    "plt.pie([male, female], \n",
    "        labels=[\"male\", \"female\"],\n",
    "        autopct = '%3.2f%%',\n",
    "        colors=['lightskyblue', 'yellowgreen']\n",
    "       )"
   ]
  },
  {
   "cell_type": "markdown",
   "id": "f09bfc90-e9a4-469d-a0ea-2f1aad3cdfb0",
   "metadata": {},
   "source": [
    "## 3 Emotions"
   ]
  },
  {
   "cell_type": "code",
   "execution_count": 58,
   "id": "931ae474-7ada-49ba-9e61-32a3add6e8d7",
   "metadata": {},
   "outputs": [],
   "source": [
    "emotion2class = {\"angry\": 0, \"disgust\": 1, \"fear\": 2, \"happy\": 3, \"neutral\": 4, \"sad\": 5, \"surprise\": 6}\n",
    "race2class = {\"asian\": 0, \"black\": 1, \"indian\": 2, \"latino hispanic\": 3, 'middle eastern': 4, 'white': 5}"
   ]
  },
  {
   "cell_type": "code",
   "execution_count": 59,
   "id": "82fe42a9-3aff-46fc-b242-decdb656964e",
   "metadata": {},
   "outputs": [],
   "source": [
    "### 3.1 Overall"
   ]
  },
  {
   "cell_type": "code",
   "execution_count": 60,
   "id": "8dee5b30-419c-4f2d-ac0d-94fa5c3f388c",
   "metadata": {},
   "outputs": [
    {
     "name": "stderr",
     "output_type": "stream",
     "text": [
      "100%|██████████| 27219/27219 [00:00<00:00, 29119.18it/s]\n"
     ]
    },
    {
     "data": {
      "text/plain": [
       "<BarContainer object of 7 artists>"
      ]
     },
     "execution_count": 60,
     "metadata": {},
     "output_type": "execute_result"
    },
    {
     "data": {
      "image/png": "[encoded data removed]",
      "text/plain": [
       "<Figure size 432x288 with 1 Axes>"
      ]
     },
     "metadata": {
      "needs_background": "light"
     },
     "output_type": "display_data"
    }
   ],
   "source": [
    "dominant_emotions = defaultdict(int)\n",
    "class2emotion = {0:\"angry\", 1:\"disgust\", 2:\"fear\", 3:\"happy\", 4:\"neutral\", 5:\"sad\", 6:\"surprise\"}\n",
    "\n",
    "for file in tqdm(os.listdir(label_dir)):\n",
    "    label_path = os.path.join(label_dir, file)\n",
    "    with open(label_path) as f:\n",
    "        data = json.load(f)\n",
    "        # get dominant emotion\n",
    "        emotion = data['emotion']\n",
    "        dominant_emotions[class2emotion[emotion]] += 1\n",
    "plt.bar(dominant_emotions.keys(), dominant_emotions.values())\n"
   ]
  },
  {
   "cell_type": "code",
   "execution_count": 70,
   "id": "b153d16d-bd84-4555-8576-2052987e86cb",
   "metadata": {},
   "outputs": [
    {
     "name": "stdout",
     "output_type": "stream",
     "text": [
      "happy: 0.11\n",
      "fear: 0.15\n",
      "neutral: 0.34\n",
      "angry: 0.10\n",
      "sad: 0.29\n",
      "surprise: 0.01\n",
      "disgust: 0.00\n"
     ]
    }
   ],
   "source": [
    "total = 0\n",
    "for cls in dominant_emotions:\n",
    "    total += dominant_emotions[cls]\n",
    "for cls in dominant_emotions:\n",
    "    print(cls + ': ' + \"{:.2f}\".format(dominant_emotions[cls] / total))"
   ]
  },
  {
   "cell_type": "markdown",
   "id": "d937d497-ccca-45d9-86e2-548c16a6b84e",
   "metadata": {},
   "source": [
    "### 3.2 Individual"
   ]
  },
  {
   "cell_type": "code",
   "execution_count": 61,
   "id": "e1779d21-3e02-42f0-8f7a-dfa2d25519a0",
   "metadata": {},
   "outputs": [
    {
     "name": "stderr",
     "output_type": "stream",
     "text": [
      "  0%|          | 3/27220 [00:00<04:56, 91.87it/s]\n"
     ]
    },
    {
     "data": {
      "image/png": "[encoded data removed]",
      "text/plain": [
       "<Figure size 432x288 with 1 Axes>"
      ]
     },
     "metadata": {
      "needs_background": "light"
     },
     "output_type": "display_data"
    }
   ],
   "source": [
    "id = 3\n",
    "cnt = 0\n",
    "for file in tqdm(os.listdir(json_dir)):\n",
    "    if cnt == id:\n",
    "        json_path = os.path.join(json_dir, file)\n",
    "        with open(json_path) as f:\n",
    "            data = json.load(f)\n",
    "            # get dominant emotion\n",
    "            emotion = data['emotion']\n",
    "            plt.bar(emotion.keys(), emotion.values())\n",
    "        break\n",
    "    else:\n",
    "        cnt += 1\n",
    "        continue"
   ]
  },
  {
   "cell_type": "markdown",
   "id": "029e0da8-73ce-4a0f-a7d3-26d1cf19ea73",
   "metadata": {},
   "source": [
    "## 4 Race"
   ]
  }
 ],
 "metadata": {
  "kernelspec": {
   "display_name": "Python 3",
   "language": "python",
   "name": "python3"
  },
  "language_info": {
   "codemirror_mode": {
    "name": "ipython",
    "version": 3
   },
   "file_extension": ".py",
   "mimetype": "text/x-python",
   "name": "python",
   "nbconvert_exporter": "python",
   "pygments_lexer": "ipython3",
   "version": "3.7.11"
  }
 },
 "nbformat": 4,
 "nbformat_minor": 5
}
