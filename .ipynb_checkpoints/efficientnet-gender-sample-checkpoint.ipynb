{
 "cells": [
  {
   "cell_type": "markdown",
   "metadata": {},
   "source": [
    "# VGG Model for Gender / Age Group prediction"
   ]
  },
  {
   "cell_type": "markdown",
   "metadata": {},
   "source": [
    "# 0 Init"
   ]
  },
  {
   "cell_type": "code",
   "execution_count": 1,
   "metadata": {},
   "outputs": [],
   "source": [
    "# a set of switches\n",
    "preprocessing = False"
   ]
  },
  {
   "cell_type": "code",
   "execution_count": 2,
   "metadata": {},
   "outputs": [],
   "source": [
    "pwd = './'\n",
    "# pwd = '/content/drive/MyDrive/UCB/21Fall/225D/'"
   ]
  },
  {
   "cell_type": "code",
   "execution_count": 3,
   "metadata": {
    "colab": {
     "base_uri": "https://localhost:8080/"
    },
    "executionInfo": {
     "elapsed": 12679,
     "status": "ok",
     "timestamp": 1639029488069,
     "user": {
      "displayName": "Frank Zhou",
      "photoUrl": "https://lh3.googleusercontent.com/a-/AOh14GhH9DJ4Gb-7TKK8YBj0pjK2iQWwf2N8UkL_K-zgJQ=s64",
      "userId": "04257197002177069179"
     },
     "user_tz": 480
    },
    "id": "5sirbVV3Ds6d",
    "outputId": "8871c78a-0ff6-493f-c6fb-9cfadc9bd299"
   },
   "outputs": [],
   "source": [
    "if not pwd == './':\n",
    "    from google.colab import drive\n",
    "    drive.mount('/content/drive')"
   ]
  },
  {
   "cell_type": "code",
   "execution_count": 4,
   "metadata": {
    "executionInfo": {
     "elapsed": 7111,
     "status": "ok",
     "timestamp": 1639029495177,
     "user": {
      "displayName": "Frank Zhou",
      "photoUrl": "https://lh3.googleusercontent.com/a-/AOh14GhH9DJ4Gb-7TKK8YBj0pjK2iQWwf2N8UkL_K-zgJQ=s64",
      "userId": "04257197002177069179"
     },
     "user_tz": 480
    },
    "id": "WWdV-eQtVI1m"
   },
   "outputs": [],
   "source": [
    "import numpy as np\n",
    "from PIL import Image\n",
    "from matplotlib import cm\n",
    "import os\n",
    "from torch.utils import data\n",
    "from torch.utils.data import Dataset, dataset\n",
    "import matplotlib.pyplot as plt\n",
    "from scipy import signal\n",
    "from scipy.io import wavfile\n",
    "from pathlib import Path \n",
    "from tqdm import tqdm\n",
    "from numpy import asarray\n",
    "from numpy import save\n",
    "import json\n",
    "import torch\n",
    "\n",
    "import torchaudio\n",
    "import torchaudio.functional as F\n",
    "import torchaudio.transforms as T\n",
    "import librosa\n",
    "import torch.nn as nn\n",
    "\n"
   ]
  },
  {
   "cell_type": "markdown",
   "metadata": {
    "tags": []
   },
   "source": [
    "## Hyper parameters"
   ]
  },
  {
   "cell_type": "code",
   "execution_count": 6,
   "metadata": {
    "executionInfo": {
     "elapsed": 142,
     "status": "ok",
     "timestamp": 1639031956973,
     "user": {
      "displayName": "Frank Zhou",
      "photoUrl": "https://lh3.googleusercontent.com/a-/AOh14GhH9DJ4Gb-7TKK8YBj0pjK2iQWwf2N8UkL_K-zgJQ=s64",
      "userId": "04257197002177069179"
     },
     "user_tz": 480
    },
    "id": "KsSgjuVZO7Zq"
   },
   "outputs": [],
   "source": [
    "LR = 1e-3\n",
    "MOMENTUM = 0.9\n",
    "LR_DECAY = 0.95\n",
    "EPOCHS = 100\n",
    "BATCH_SIZE = 32\n",
    "CKPT_DIR = pwd + \"ckpt/\""
   ]
  },
  {
   "cell_type": "markdown",
   "metadata": {},
   "source": [
    "# 1 Preprocessing\n",
    "- waveform --> mel-spectrogram\n",
    "- (.wav)   --> (.npy)"
   ]
  },
  {
   "cell_type": "markdown",
   "metadata": {
    "id": "I5g0OMKn_q5q"
   },
   "source": [
    "## 1.1 Convert to spectrogram and save"
   ]
  },
  {
   "cell_type": "code",
   "execution_count": 7,
   "metadata": {
    "colab": {
     "base_uri": "https://localhost:8080/"
    },
    "executionInfo": {
     "elapsed": 368,
     "status": "ok",
     "timestamp": 1638677051508,
     "user": {
      "displayName": "Frank Zhou",
      "photoUrl": "https://lh3.googleusercontent.com/a-/AOh14GhH9DJ4Gb-7TKK8YBj0pjK2iQWwf2N8UkL_K-zgJQ=s64",
      "userId": "04257197002177069179"
     },
     "user_tz": 480
    },
    "id": "03b5bhtXEo9n",
    "outputId": "c1f56f5a-0135-4444-cdc9-7b40c2c06784"
   },
   "outputs": [],
   "source": [
    "# lst = []\n",
    "# for wav in tqdm(os.listdir(wav_dir)):\n",
    "#   p1 = os.path.join(wav_dir, wav)\n",
    "#   sample_rate, samples = wavfile.read(p1)\n",
    "#   frequencies, times, spectrogram = signal.spectrogram(samples, sample_rate)\n",
    "#   lst.append(spectrogram.shape[1])\n",
    "# sum(lst)//len(lst)"
   ]
  },
  {
   "cell_type": "code",
   "execution_count": 8,
   "metadata": {
    "executionInfo": {
     "elapsed": 155,
     "status": "ok",
     "timestamp": 1639030808678,
     "user": {
      "displayName": "Frank Zhou",
      "photoUrl": "https://lh3.googleusercontent.com/a-/AOh14GhH9DJ4Gb-7TKK8YBj0pjK2iQWwf2N8UkL_K-zgJQ=s64",
      "userId": "04257197002177069179"
     },
     "user_tz": 480
    },
    "id": "yRwjRW_MXsmW"
   },
   "outputs": [],
   "source": [
    "def wav2spec(filename, length = 300, mx = 50):\n",
    "  # sample_rate, samples = wavfile.read(file_path)\n",
    "  # frequencies, times, spectrogram = signal.spectrogram(samples, sample_rate)\n",
    "  waveform, sample_rate = torchaudio.load(filename)\n",
    "  print(filename)\n",
    "  transform = torchaudio.transforms.MelSpectrogram(sample_rate=sample_rate, n_fft=1000, n_mels=200)\n",
    "  spectrogram = transform(waveform)\n",
    "  # transform & convert\n",
    "  array = librosa.power_to_db(spectrogram[0])  # power --> db\n",
    "  # plt.imshow(array, origin='lower')\n",
    "  if array.shape[1] >= length:\n",
    "    # crop\n",
    "    return array[:,:length]/mx\n",
    "  else:\n",
    "    # repeat\n",
    "    times = length // array.shape[1] + 1\n",
    "    res = array\n",
    "    for i in range(times):\n",
    "        res = np.concatenate((res, array), axis=1)\n",
    "    res = res[:,:length]\n",
    "    return res/mx"
   ]
  },
  {
   "cell_type": "code",
   "execution_count": 10,
   "metadata": {},
   "outputs": [
    {
     "name": "stdout",
     "output_type": "stream",
     "text": [
      "example/IMG-9322.wav\n"
     ]
    }
   ],
   "source": [
    "wav_path = \"example/IMG-9322.wav\"\n",
    "spec_path = \"example/spec.npy\"\n",
    "arr = wav2spec(wav_path, 200)\n",
    "save(spec_path, arr)\n",
    "npy_data = arr"
   ]
  },
  {
   "cell_type": "code",
   "execution_count": null,
   "metadata": {},
   "outputs": [],
   "source": [
    "\n"
   ]
  },
  {
   "cell_type": "markdown",
   "metadata": {
    "tags": []
   },
   "source": [
    "## 3.1 model definition"
   ]
  },
  {
   "cell_type": "code",
   "execution_count": 11,
   "metadata": {
    "tags": []
   },
   "outputs": [],
   "source": [
    "import torchvision.models as models\n",
    "model = models.efficientnet_b1(pretrained=False)\n",
    "model.features[0] = nn.Conv2d(1, 32, kernel_size=(3, 3), stride=(2, 2), padding=(1, 1), bias=False)\n",
    "model.classifier[-1] = nn.Linear(in_features=1280, out_features=2, bias=True)"
   ]
  },
  {
   "cell_type": "code",
   "execution_count": 12,
   "metadata": {
    "tags": []
   },
   "outputs": [
    {
     "data": {
      "text/plain": [
       "torch.Size([1, 2])"
      ]
     },
     "execution_count": 12,
     "metadata": {},
     "output_type": "execute_result"
    }
   ],
   "source": [
    "# check\n",
    "x = torch.rand(1, 1, 128, 400)\n",
    "model(x).shape"
   ]
  },
  {
   "cell_type": "code",
   "execution_count": 13,
   "metadata": {
    "id": "7r6kCpO3yorf",
    "tags": []
   },
   "outputs": [
    {
     "data": {
      "text/plain": [
       "<All keys matched successfully>"
      ]
     },
     "execution_count": 13,
     "metadata": {},
     "output_type": "execute_result"
    }
   ],
   "source": [
    "ckpt_path = \"ckpt/gender spectrogram/ckpt_005.ckpt\"\n",
    "model.load_state_dict(torch.load(ckpt_path)['state_dict'])"
   ]
  },
  {
   "cell_type": "code",
   "execution_count": 18,
   "metadata": {},
   "outputs": [],
   "source": [
    "wav_data = torch.tensor(arr)[None, None, :, :]"
   ]
  },
  {
   "cell_type": "code",
   "execution_count": 19,
   "metadata": {},
   "outputs": [],
   "source": [
    "pred = model(wav_data)"
   ]
  },
  {
   "cell_type": "code",
   "execution_count": 20,
   "metadata": {},
   "outputs": [
    {
     "data": {
      "text/plain": [
       "tensor([[ 1.3556, -0.7831]], grad_fn=<AddmmBackward0>)"
      ]
     },
     "execution_count": 20,
     "metadata": {},
     "output_type": "execute_result"
    }
   ],
   "source": [
    "pred"
   ]
  },
  {
   "cell_type": "code",
   "execution_count": 25,
   "metadata": {
    "id": "Yh5w9NxfypKI",
    "tags": []
   },
   "outputs": [
    {
     "name": "stderr",
     "output_type": "stream",
     "text": [
      "100%|██████████| 171/171 [01:54<00:00,  1.49it/s]\n"
     ]
    },
    {
     "data": {
      "text/plain": [
       "array([0, 0, 1, ..., 1, 1, 0])"
      ]
     },
     "execution_count": 25,
     "metadata": {},
     "output_type": "execute_result"
    }
   ],
   "source": [
    "pred_dest_path = \"confusion_matrix_source_data/gender_spec_pred.npy\"\n",
    "label_dest_path = \"confusion_matrix_source_data/gender_spec_label.npy\"\n",
    "pred_list = []\n",
    "label_list = []\n",
    "for batch in tqdm(validation_loader):\n",
    "    pred = torch.argmax(model(batch['x']), axis = 1)\n",
    "    label = batch['gender']\n",
    "    pred_list += pred.tolist()\n",
    "    label_list += label.tolist()\n",
    "\n",
    "data_list = [pred_list, label_list]\n",
    "np.save(pred_dest_path,np.array(pred_list))\n",
    "np.save(label_dest_path,np.array(label_list))\n",
    "data = np.load(pred_dest_path)\n",
    "data"
   ]
  },
  {
   "cell_type": "code",
   "execution_count": null,
   "metadata": {},
   "outputs": [],
   "source": [
    "y = batch['emotion']"
   ]
  },
  {
   "cell_type": "code",
   "execution_count": null,
   "metadata": {},
   "outputs": [],
   "source": [
    "torch.argmax(res, dim = 1)"
   ]
  },
  {
   "cell_type": "code",
   "execution_count": null,
   "metadata": {},
   "outputs": [],
   "source": [
    "res[:10]"
   ]
  },
  {
   "cell_type": "markdown",
   "metadata": {},
   "source": [
    "## 5.3 Accuracy on Datasets with GT"
   ]
  },
  {
   "cell_type": "code",
   "execution_count": null,
   "metadata": {},
   "outputs": [],
   "source": [
    "wav_dir_gt = \"225D_DataSet_GT/CREMA/CREMA_wav/\"\n",
    "npy_dir_gt = \"225D_DataSet_GT/CREMA/npy/\"\n",
    "label_dir_gt = \"225D_DataSet_GT/CREMA/CREMA_label/\""
   ]
  },
  {
   "cell_type": "markdown",
   "metadata": {},
   "source": [
    "### 5.3.1 GT Preprocessing"
   ]
  },
  {
   "cell_type": "code",
   "execution_count": null,
   "metadata": {},
   "outputs": [],
   "source": [
    "preprocessing = False"
   ]
  },
  {
   "cell_type": "code",
   "execution_count": null,
   "metadata": {},
   "outputs": [],
   "source": [
    "def wav2spec(filename, length = 300, mx = 50):\n",
    "  # sample_rate, samples = wavfile.read(file_path)\n",
    "  # frequencies, times, spectrogram = signal.spectrogram(samples, sample_rate)\n",
    "  waveform, sample_rate = torchaudio.load(filename)\n",
    "  transform = torchaudio.transforms.MelSpectrogram(sample_rate=sample_rate, n_fft=1000, n_mels=200)\n",
    "  spectrogram = transform(waveform)\n",
    "  # transform & convert\n",
    "  array = librosa.power_to_db(spectrogram[0])  # power --> db\n",
    "  if array.shape[1] >= length:\n",
    "    # crop\n",
    "    return array[:,:length]/mx\n",
    "  else:\n",
    "    # repeat\n",
    "    times = length // array.shape[1] + 1\n",
    "    res = array\n",
    "    for i in range(times):\n",
    "        res = np.concatenate((res, array), axis=1)\n",
    "    res = res[:,:length]\n",
    "    return res/mx\n",
    "\n",
    "if preprocessing:\n",
    "    # convert\n",
    "    for wav in tqdm(os.listdir(wav_dir_gt)):\n",
    "      p1 = os.path.join(wav_dir_gt, wav)\n",
    "      p2 = os.path.join(npy_dir_gt, wav)\n",
    "      arr = wav2spec(p1, 200)\n",
    "      # print(np.max(arr))\n",
    "      save(p2[:-3] + \"npy\", arr)"
   ]
  },
  {
   "cell_type": "markdown",
   "metadata": {},
   "source": [
    "### 5.3.2 Dataloader"
   ]
  },
  {
   "cell_type": "code",
   "execution_count": null,
   "metadata": {},
   "outputs": [],
   "source": [
    "class GTDataset(Dataset):\n",
    "    def __init__(self, npy_dir_gt, label_dir_gt):\n",
    "        self._npy_paths = sorted(os.listdir(npy_dir_gt))\n",
    "        self._label_paths = sorted(os.listdir(label_dir_gt))\n",
    "        for i in range(len(self._npy_paths)):\n",
    "            self._npy_paths[i] = npy_dir_gt + self._npy_paths[i]\n",
    "        for i in range(len(self._label_paths)):\n",
    "            self._label_paths[i] = label_dir_gt + self._label_paths[i]\n",
    "\n",
    "    def __len__(self):\n",
    "        return len(self._npy_paths)\n",
    "\n",
    "    def __getitem__(self, idx):\n",
    "        npy_path = self._npy_paths[idx]\n",
    "        label_path  = self._label_paths[idx]\n",
    "        # normalize to [0,1]\n",
    "        npy = np.load(npy_path)/2000\n",
    "        with open(label_path) as f:\n",
    "            sample = json.load(f)\n",
    "        sample['x'] = npy[None,:,:]\n",
    "        return sample\n"
   ]
  },
  {
   "cell_type": "code",
   "execution_count": null,
   "metadata": {},
   "outputs": [],
   "source": [
    "gt_dataset = GTDataset(npy_dir_gt, label_dir_gt)\n",
    "gt_dataloader = torch.utils.data.DataLoader(gt_dataset, batch_size=1, shuffle=False)"
   ]
  },
  {
   "cell_type": "code",
   "execution_count": null,
   "metadata": {},
   "outputs": [],
   "source": [
    "# check\n",
    "for sample in gt_dataloader:\n",
    "    print(sample['x'].shape)\n",
    "    break"
   ]
  },
  {
   "cell_type": "markdown",
   "metadata": {},
   "source": [
    "### 5.3.2 Calculate Acc"
   ]
  },
  {
   "cell_type": "code",
   "execution_count": null,
   "metadata": {},
   "outputs": [],
   "source": [
    "ckpt_path = \"ckpt/age spectrogram/ckpt_005.ckpt\"\n",
    "model.load_state_dict(torch.load(ckpt_path)['state_dict'])"
   ]
  },
  {
   "cell_type": "code",
   "execution_count": null,
   "metadata": {},
   "outputs": [],
   "source": [
    "correct = 0\n",
    "total = 0\n",
    "for sample in tqdm(gt_dataloader):\n",
    "    total += 1\n",
    "    pred = model(sample['x'])\n",
    "    label = sample['gender']\n",
    "    print(pred, label)\n",
    "    if pred == label:\n",
    "        correct += 1\n",
    "        "
   ]
  },
  {
   "cell_type": "code",
   "execution_count": null,
   "metadata": {},
   "outputs": [],
   "source": [
    "print(correct/total)"
   ]
  },
  {
   "cell_type": "code",
   "execution_count": null,
   "metadata": {},
   "outputs": [],
   "source": []
  },
  {
   "cell_type": "code",
   "execution_count": null,
   "metadata": {},
   "outputs": [],
   "source": []
  },
  {
   "cell_type": "code",
   "execution_count": null,
   "metadata": {},
   "outputs": [],
   "source": []
  },
  {
   "cell_type": "code",
   "execution_count": null,
   "metadata": {},
   "outputs": [],
   "source": []
  },
  {
   "cell_type": "code",
   "execution_count": null,
   "metadata": {},
   "outputs": [],
   "source": []
  },
  {
   "cell_type": "code",
   "execution_count": null,
   "metadata": {},
   "outputs": [],
   "source": []
  },
  {
   "cell_type": "code",
   "execution_count": null,
   "metadata": {},
   "outputs": [],
   "source": []
  },
  {
   "cell_type": "code",
   "execution_count": null,
   "metadata": {},
   "outputs": [],
   "source": []
  },
  {
   "cell_type": "code",
   "execution_count": null,
   "metadata": {},
   "outputs": [],
   "source": []
  },
  {
   "cell_type": "code",
   "execution_count": null,
   "metadata": {},
   "outputs": [],
   "source": []
  },
  {
   "cell_type": "code",
   "execution_count": null,
   "metadata": {},
   "outputs": [],
   "source": []
  },
  {
   "cell_type": "code",
   "execution_count": null,
   "metadata": {},
   "outputs": [],
   "source": []
  },
  {
   "cell_type": "markdown",
   "metadata": {
    "id": "H7pwxNuIKTV3",
    "tags": []
   },
   "source": [
    "# Scratch"
   ]
  },
  {
   "cell_type": "code",
   "execution_count": null,
   "metadata": {},
   "outputs": [],
   "source": [
    "a = torch.tensor([1,2,3])\n",
    "b = torch.tensor([1,3,3])\n",
    "sum(a == b)"
   ]
  },
  {
   "cell_type": "code",
   "execution_count": null,
   "metadata": {
    "colab": {
     "base_uri": "https://localhost:8080/",
     "height": 283
    },
    "executionInfo": {
     "elapsed": 499,
     "status": "ok",
     "timestamp": 1638666353248,
     "user": {
      "displayName": "Frank Zhou",
      "photoUrl": "https://lh3.googleusercontent.com/a-/AOh14GhH9DJ4Gb-7TKK8YBj0pjK2iQWwf2N8UkL_K-zgJQ=s64",
      "userId": "04257197002177069179"
     },
     "user_tz": 480
    },
    "id": "h94COWBgE1D8",
    "outputId": "201bc51d-712b-408d-c04d-93da6e65a042"
   },
   "outputs": [],
   "source": [
    "sample_rate, samples = wavfile.read('/content/drive/MyDrive/UCB/21Fall/225D/smallset/wav/0LbtndiXJC0-00003.wav')\n",
    "frequencies, times, spectrogram = signal.spectrogram(samples, sample_rate)\n",
    "\n",
    "plt.pcolormesh(times, frequencies, np.log(spectrogram))\n",
    "# plt.imshow(np.log(spectrogram))\n",
    "plt.ylabel('Frequency [Hz]')\n",
    "plt.xlabel('Time [sec]')\n",
    "plt.show()"
   ]
  },
  {
   "cell_type": "code",
   "execution_count": null,
   "metadata": {
    "colab": {
     "base_uri": "https://localhost:8080/"
    },
    "executionInfo": {
     "elapsed": 271,
     "status": "ok",
     "timestamp": 1638666390239,
     "user": {
      "displayName": "Frank Zhou",
      "photoUrl": "https://lh3.googleusercontent.com/a-/AOh14GhH9DJ4Gb-7TKK8YBj0pjK2iQWwf2N8UkL_K-zgJQ=s64",
      "userId": "04257197002177069179"
     },
     "user_tz": 480
    },
    "id": "6DLGFmC5S5YF",
    "outputId": "d6d73957-43b3-4d05-dd84-6dc1884b3bb1"
   },
   "outputs": [],
   "source": [
    "print(np.max(spectrogram))"
   ]
  },
  {
   "cell_type": "code",
   "execution_count": null,
   "metadata": {
    "colab": {
     "base_uri": "https://localhost:8080/"
    },
    "id": "iLsBduNqWdcp",
    "outputId": "a3c5a6bb-703e-4f05-9c52-cbdeeb6212ec"
   },
   "outputs": [],
   "source": [
    "spectrogram"
   ]
  },
  {
   "cell_type": "code",
   "execution_count": null,
   "metadata": {
    "colab": {
     "base_uri": "https://localhost:8080/"
    },
    "id": "iCgRUUIuRpKD",
    "outputId": "2eb33ef1-dd19-4017-b778-3451d67920a8"
   },
   "outputs": [],
   "source": [
    "np.unique(spectrogram.astype(np.uint8))"
   ]
  },
  {
   "cell_type": "code",
   "execution_count": null,
   "metadata": {
    "colab": {
     "base_uri": "https://localhost:8080/"
    },
    "id": "gmW0_jpw9S7c",
    "outputId": "3d3ce5f2-8bf5-46c7-c4ea-810e28e278c9"
   },
   "outputs": [],
   "source": [
    "(spectrogram*255).astype(np.uint8)"
   ]
  },
  {
   "cell_type": "code",
   "execution_count": null,
   "metadata": {
    "id": "VD9eCql_-aWP"
   },
   "outputs": [],
   "source": [
    "spectrogram"
   ]
  },
  {
   "cell_type": "code",
   "execution_count": null,
   "metadata": {
    "colab": {
     "base_uri": "https://localhost:8080/"
    },
    "id": "LFGmdoTC9_6v",
    "outputId": "be69e2f1-b132-49f2-8136-5ed77752cb6f"
   },
   "outputs": [],
   "source": [
    "np.unique(spectrogram.astype(np.uint8))"
   ]
  },
  {
   "cell_type": "code",
   "execution_count": null,
   "metadata": {
    "colab": {
     "base_uri": "https://localhost:8080/",
     "height": 146
    },
    "id": "htSKLlbJ84pD",
    "outputId": "e1d0cd06-89c0-4d8e-e208-3283905052bb"
   },
   "outputs": [],
   "source": [
    "Image.fromarray(spectrogram.astype(np.uint8))"
   ]
  },
  {
   "cell_type": "code",
   "execution_count": null,
   "metadata": {
    "colab": {
     "base_uri": "https://localhost:8080/"
    },
    "id": "X2vw1RTdZaxC",
    "outputId": "01d91f67-54bd-4800-8805-8ae4a14cf1e0"
   },
   "outputs": [],
   "source": [
    "type(spectrogram),spectrogram.shape"
   ]
  },
  {
   "cell_type": "code",
   "execution_count": null,
   "metadata": {
    "colab": {
     "base_uri": "https://localhost:8080/"
    },
    "id": "p1uYv366Zn7Y",
    "outputId": "9de26379-7b6e-4133-c74f-eeb048073f15"
   },
   "outputs": [],
   "source": [
    "frequencies"
   ]
  },
  {
   "cell_type": "code",
   "execution_count": null,
   "metadata": {
    "colab": {
     "base_uri": "https://localhost:8080/"
    },
    "executionInfo": {
     "elapsed": 189,
     "status": "ok",
     "timestamp": 1638676873510,
     "user": {
      "displayName": "Frank Zhou",
      "photoUrl": "https://lh3.googleusercontent.com/a-/AOh14GhH9DJ4Gb-7TKK8YBj0pjK2iQWwf2N8UkL_K-zgJQ=s64",
      "userId": "04257197002177069179"
     },
     "user_tz": 480
    },
    "id": "mL9LGrmxXx3q",
    "outputId": "33f2a2b0-d2b6-4d2d-8f88-bc799bef836a"
   },
   "outputs": [],
   "source": [
    "\n",
    "p1 = '/content/drive/MyDrive/UCB/21Fall/225D/smallset/wav/0LbtndiXJC0-00003.wav'\n",
    "\n",
    "arr = wav2spec(p1, 600)\n",
    "print(np.max(arr))"
   ]
  },
  {
   "cell_type": "code",
   "execution_count": null,
   "metadata": {
    "colab": {
     "base_uri": "https://localhost:8080/",
     "height": 201
    },
    "id": "L4USVX2iWjD7",
    "outputId": "be85df95-ddcd-4fa1-c0b5-5cef0a8a2770"
   },
   "outputs": [],
   "source": []
  },
  {
   "cell_type": "code",
   "execution_count": null,
   "metadata": {
    "colab": {
     "base_uri": "https://localhost:8080/"
    },
    "executionInfo": {
     "elapsed": 218,
     "status": "ok",
     "timestamp": 1638678428573,
     "user": {
      "displayName": "Frank Zhou",
      "photoUrl": "https://lh3.googleusercontent.com/a-/AOh14GhH9DJ4Gb-7TKK8YBj0pjK2iQWwf2N8UkL_K-zgJQ=s64",
      "userId": "04257197002177069179"
     },
     "user_tz": 480
    },
    "id": "V2dj5IPHFgIu",
    "outputId": "798b9163-9663-486d-fac5-c3c6810edd5a"
   },
   "outputs": [],
   "source": [
    "def init_weights(m):\n",
    "    if isinstance(m, nn.Linear):\n",
    "        torch.nn.init.xavier_uniform(m.weight)\n",
    "        m.bias.data.fill_(0.01)\n",
    "\n",
    "net = nn.Sequential(nn.Linear(2, 2), nn.Linear(2, 2))\n",
    "net.apply(init_weights)"
   ]
  },
  {
   "cell_type": "code",
   "execution_count": null,
   "metadata": {
    "id": "LIdUbIjrU9Ae"
   },
   "outputs": [],
   "source": [
    "arr = sig2spec(samples, sample_rate)"
   ]
  },
  {
   "cell_type": "code",
   "execution_count": null,
   "metadata": {
    "id": "buBn1nlcV7OI"
   },
   "outputs": [],
   "source": [
    "filename = \"/content/drive/MyDrive/UCB/21Fall/225D/225D_DataSet/wav_files/0yeElGrMVpI-00003.wav\""
   ]
  },
  {
   "cell_type": "code",
   "execution_count": null,
   "metadata": {
    "id": "OWNtG1ApX0cU"
   },
   "outputs": [],
   "source": [
    "waveform, sample_rate = torchaudio.load(filename, normalize=True)\n",
    "transform = torchaudio.transforms.MelSpectrogram(n_fft=800)\n",
    "spectrogram = transform(waveform)\n",
    "# transform & convert\n",
    "array = librosa.power_to_db(spectrogram[0])  # power --> db\n",
    "# # store\n",
    "# target_name = npy_path + file_name[:-4] + '.npy'\n",
    "# with open(target_name, 'wb') as f:\n",
    "#   np.save(f, array)"
   ]
  },
  {
   "cell_type": "code",
   "execution_count": null,
   "metadata": {
    "colab": {
     "base_uri": "https://localhost:8080/"
    },
    "executionInfo": {
     "elapsed": 284,
     "status": "ok",
     "timestamp": 1639006318832,
     "user": {
      "displayName": "Frank Zhou",
      "photoUrl": "https://lh3.googleusercontent.com/a-/AOh14GhH9DJ4Gb-7TKK8YBj0pjK2iQWwf2N8UkL_K-zgJQ=s64",
      "userId": "04257197002177069179"
     },
     "user_tz": 480
    },
    "id": "y_1t8KQQX_aI",
    "outputId": "fcb77466-62e0-4e52-8eeb-7eba0a7c0bbc"
   },
   "outputs": [],
   "source": [
    "type(spectrogram)"
   ]
  },
  {
   "cell_type": "code",
   "execution_count": null,
   "metadata": {
    "colab": {
     "base_uri": "https://localhost:8080/"
    },
    "executionInfo": {
     "elapsed": 408,
     "status": "ok",
     "timestamp": 1639006320540,
     "user": {
      "displayName": "Frank Zhou",
      "photoUrl": "https://lh3.googleusercontent.com/a-/AOh14GhH9DJ4Gb-7TKK8YBj0pjK2iQWwf2N8UkL_K-zgJQ=s64",
      "userId": "04257197002177069179"
     },
     "user_tz": 480
    },
    "id": "U34m0IsyYntf",
    "outputId": "b2d41d9a-d1d0-416a-ad77-091380b29f30"
   },
   "outputs": [],
   "source": [
    "spectrogram.shape"
   ]
  },
  {
   "cell_type": "code",
   "execution_count": null,
   "metadata": {
    "colab": {
     "base_uri": "https://localhost:8080/",
     "height": 267
    },
    "executionInfo": {
     "elapsed": 20,
     "status": "ok",
     "timestamp": 1639006345913,
     "user": {
      "displayName": "Frank Zhou",
      "photoUrl": "https://lh3.googleusercontent.com/a-/AOh14GhH9DJ4Gb-7TKK8YBj0pjK2iQWwf2N8UkL_K-zgJQ=s64",
      "userId": "04257197002177069179"
     },
     "user_tz": 480
    },
    "id": "VtWdGMjTYpKn",
    "outputId": "2ad079e0-12b9-4a66-ae6f-efec3349a998"
   },
   "outputs": [],
   "source": [
    "plt.imshow(array, origin='lower')"
   ]
  },
  {
   "cell_type": "code",
   "execution_count": null,
   "metadata": {
    "colab": {
     "base_uri": "https://localhost:8080/"
    },
    "executionInfo": {
     "elapsed": 7,
     "status": "ok",
     "timestamp": 1639006342112,
     "user": {
      "displayName": "Frank Zhou",
      "photoUrl": "https://lh3.googleusercontent.com/a-/AOh14GhH9DJ4Gb-7TKK8YBj0pjK2iQWwf2N8UkL_K-zgJQ=s64",
      "userId": "04257197002177069179"
     },
     "user_tz": 480
    },
    "id": "HvXFEbosYtrS",
    "outputId": "0cfa633c-7f31-4260-da9e-84455c57e0b2"
   },
   "outputs": [],
   "source": [
    "array.shape"
   ]
  },
  {
   "cell_type": "code",
   "execution_count": null,
   "metadata": {
    "colab": {
     "base_uri": "https://localhost:8080/"
    },
    "executionInfo": {
     "elapsed": 384,
     "status": "ok",
     "timestamp": 1639006444768,
     "user": {
      "displayName": "Frank Zhou",
      "photoUrl": "https://lh3.googleusercontent.com/a-/AOh14GhH9DJ4Gb-7TKK8YBj0pjK2iQWwf2N8UkL_K-zgJQ=s64",
      "userId": "04257197002177069179"
     },
     "user_tz": 480
    },
    "id": "zDdWn9jNZAhd",
    "outputId": "5fbdcbe2-649b-4bba-b38f-0bf5500cc9ec"
   },
   "outputs": [],
   "source": [
    "np.max(array)"
   ]
  },
  {
   "cell_type": "code",
   "execution_count": null,
   "metadata": {
    "colab": {
     "base_uri": "https://localhost:8080/"
    },
    "executionInfo": {
     "elapsed": 58458,
     "status": "ok",
     "timestamp": 1639006934549,
     "user": {
      "displayName": "Frank Zhou",
      "photoUrl": "https://lh3.googleusercontent.com/a-/AOh14GhH9DJ4Gb-7TKK8YBj0pjK2iQWwf2N8UkL_K-zgJQ=s64",
      "userId": "04257197002177069179"
     },
     "user_tz": 480
    },
    "id": "nKXLsuyJZZeI",
    "outputId": "2df2815a-ac05-49c2-c39c-886bdd8c3487"
   },
   "outputs": [],
   "source": [
    "mx = 0\n",
    "length = []\n",
    "i = 0\n",
    "for file_name in tqdm(os.listdir(wav_dir)):\n",
    "  if i % 100 == 0:\n",
    "    # read & compute mel-spectrogram\n",
    "    path_name = wav_dir + file_name\n",
    "    waveform, sample_rate = torchaudio.load(path_name, normalize=True)\n",
    "    transform = torchaudio.transforms.MelSpectrogram(n_fft=800)\n",
    "    spectrogram = transform(waveform)\n",
    "    # transform & convert\n",
    "    array = librosa.power_to_db(spectrogram[0])  # power --> db\n",
    "    mx = max(np.max(array), mx)\n",
    "    length.append(array.shape[1])\n",
    "  i += 1"
   ]
  },
  {
   "cell_type": "code",
   "execution_count": null,
   "metadata": {
    "colab": {
     "base_uri": "https://localhost:8080/"
    },
    "executionInfo": {
     "elapsed": 662,
     "status": "ok",
     "timestamp": 1639006939347,
     "user": {
      "displayName": "Frank Zhou",
      "photoUrl": "https://lh3.googleusercontent.com/a-/AOh14GhH9DJ4Gb-7TKK8YBj0pjK2iQWwf2N8UkL_K-zgJQ=s64",
      "userId": "04257197002177069179"
     },
     "user_tz": 480
    },
    "id": "EAI5HA6SZ0l4",
    "outputId": "3572bd54-fd5e-4be9-ee0b-501e9d8d8d5f"
   },
   "outputs": [],
   "source": [
    "mx"
   ]
  },
  {
   "cell_type": "code",
   "execution_count": null,
   "metadata": {
    "colab": {
     "base_uri": "https://localhost:8080/"
    },
    "executionInfo": {
     "elapsed": 481,
     "status": "ok",
     "timestamp": 1639006964047,
     "user": {
      "displayName": "Frank Zhou",
      "photoUrl": "https://lh3.googleusercontent.com/a-/AOh14GhH9DJ4Gb-7TKK8YBj0pjK2iQWwf2N8UkL_K-zgJQ=s64",
      "userId": "04257197002177069179"
     },
     "user_tz": 480
    },
    "id": "Br1Wn9ceaiIH",
    "outputId": "fe2de061-a4ae-42dd-cdb0-5e4a34d0abd7"
   },
   "outputs": [],
   "source": [
    "sum(length)/len(length)"
   ]
  },
  {
   "cell_type": "code",
   "execution_count": null,
   "metadata": {
    "colab": {
     "base_uri": "https://localhost:8080/"
    },
    "executionInfo": {
     "elapsed": 380,
     "status": "ok",
     "timestamp": 1639030259782,
     "user": {
      "displayName": "Frank Zhou",
      "photoUrl": "https://lh3.googleusercontent.com/a-/AOh14GhH9DJ4Gb-7TKK8YBj0pjK2iQWwf2N8UkL_K-zgJQ=s64",
      "userId": "04257197002177069179"
     },
     "user_tz": 480
    },
    "id": "OlN1bA3IbTzJ",
    "outputId": "25eeeb44-433c-426d-83b5-318a0d21c710"
   },
   "outputs": [],
   "source": [
    "% cd /content/drive/MyDrive/UCB/21Fall/225D/225D_DataSet"
   ]
  },
  {
   "cell_type": "code",
   "execution_count": null,
   "metadata": {
    "colab": {
     "base_uri": "https://localhost:8080/"
    },
    "executionInfo": {
     "elapsed": 424,
     "status": "ok",
     "timestamp": 1639029284399,
     "user": {
      "displayName": "Frank Zhou",
      "photoUrl": "https://lh3.googleusercontent.com/a-/AOh14GhH9DJ4Gb-7TKK8YBj0pjK2iQWwf2N8UkL_K-zgJQ=s64",
      "userId": "04257197002177069179"
     },
     "user_tz": 480
    },
    "id": "nFYVKTbYt9Vr",
    "outputId": "3a52fab3-f1b8-4677-dbd3-3a2139548a98"
   },
   "outputs": [],
   "source": [
    "import os\n",
    "len(os.listdir(\"json\"))"
   ]
  },
  {
   "cell_type": "code",
   "execution_count": null,
   "metadata": {
    "colab": {
     "base_uri": "https://localhost:8080/"
    },
    "executionInfo": {
     "elapsed": 227,
     "status": "ok",
     "timestamp": 1639028679845,
     "user": {
      "displayName": "Frank Zhou",
      "photoUrl": "https://lh3.googleusercontent.com/a-/AOh14GhH9DJ4Gb-7TKK8YBj0pjK2iQWwf2N8UkL_K-zgJQ=s64",
      "userId": "04257197002177069179"
     },
     "user_tz": 480
    },
    "id": "Z7QpOuJwI5tK",
    "outputId": "ff85b321-e5bb-4bca-802e-e1444e26ccac"
   },
   "outputs": [],
   "source": [
    "! unzip 225D_DataSet.zip "
   ]
  },
  {
   "cell_type": "code",
   "execution_count": null,
   "metadata": {
    "id": "o4VejD6HJVfr"
   },
   "outputs": [],
   "source": []
  }
 ],
 "metadata": {
  "accelerator": "GPU",
  "colab": {
   "collapsed_sections": [
    "I5g0OMKn_q5q",
    "Hs545Xr6Aeyb",
    "r5LTY6O3_niO",
    "Lo5OmxamE-NY",
    "NmRo1znryoP0",
    "H7pwxNuIKTV3"
   ],
   "name": "VGG_M_V1.ipynb",
   "provenance": []
  },
  "kernelspec": {
   "display_name": "Python 3",
   "language": "python",
   "name": "python3"
  },
  "language_info": {
   "codemirror_mode": {
    "name": "ipython",
    "version": 3
   },
   "file_extension": ".py",
   "mimetype": "text/x-python",
   "name": "python",
   "nbconvert_exporter": "python",
   "pygments_lexer": "ipython3",
   "version": "3.7.11"
  }
 },
 "nbformat": 4,
 "nbformat_minor": 4
}
