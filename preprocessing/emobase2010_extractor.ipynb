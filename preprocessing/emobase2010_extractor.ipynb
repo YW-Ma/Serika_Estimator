{
 "cells": [
  {
   "cell_type": "code",
   "execution_count": 34,
   "id": "6617531e-bd92-4607-8795-d4371799bf62",
   "metadata": {},
   "outputs": [],
   "source": [
    "import os\n",
    "import numpy as np\n",
    "\n",
    "pwd = './'\n",
    "wav_dir = pwd + \"225D_DataSet/wav_files/\"\n",
    "npy_dir = pwd + \"225D_DataSet/npy/\"\n"
   ]
  },
  {
   "cell_type": "code",
   "execution_count": 42,
   "id": "37c8c1b5-ba8d-406c-8617-d57f56f68390",
   "metadata": {},
   "outputs": [],
   "source": [
    "csv_dir = pwd + \"225D_DataSet/csv/\"\n",
    "def wav_to_npy(wav_dir, csv_dir, npy_dir):\n",
    "    wav_to_csv(wav_dir, csv_dir)\n",
    "    csv_to_npy(csv_dir, npy_dir)\n",
    "\n",
    "def wav_to_csv(wav_dir, csv_dir):\n",
    "    for file in os.listdir(wav_dir):\n",
    "        source_file = wav_dir + file\n",
    "        target_file = csv_dir + file[:-4] + \".csv\"\n",
    "        os.system('./bin/SMILExtract -C config/emobase/emobase2010.conf -I ' + source_file + ' -O ' + target_file);\n",
    "\n",
    "        \n",
    "def csv_to_npy(csv_dir, npy_dir):\n",
    "    cnt = 0\n",
    "    for file in os.listdir(csv_dir):\n",
    "        if cnt == 4012:\n",
    "            cnt += 1\n",
    "            continue\n",
    "        \n",
    "        source_file = csv_dir + file\n",
    "        target_file = npy_dir + file[:-4] + \".npy\"\n",
    "        \n",
    "        \n",
    "        # read csv\n",
    "        with open(source_file, 'r') as f:\n",
    "            Lines = f.readlines()\n",
    "            count = 0\n",
    "            string = ''\n",
    "            for line in Lines:\n",
    "                count += 1\n",
    "                if count == 1590:\n",
    "                    string = line.strip()\n",
    "                    string = string[9:]\n",
    "                    string = string[:]\n",
    "                    \n",
    "        # process to numpy array\n",
    "        array = np.fromstring(string, dtype = float, sep = ',')\n",
    "        # save numpy array\n",
    "        with open (target_file, 'wb') as f:\n",
    "            np.save(f, array)\n",
    "        \n",
    "        cnt += 1\n",
    "    print(global_max)"
   ]
  },
  {
   "cell_type": "code",
   "execution_count": 43,
   "id": "ca53798a-f90e-46c6-b723-ae1b4cda15f4",
   "metadata": {},
   "outputs": [
    {
     "name": "stdout",
     "output_type": "stream",
     "text": [
      "47763.71\n"
     ]
    }
   ],
   "source": [
    "csv_to_npy(csv_dir, npy_dir)"
   ]
  },
  {
   "cell_type": "code",
   "execution_count": null,
   "id": "9bee2da8-8471-4555-82f4-0cd8d64fcb6c",
   "metadata": {},
   "outputs": [],
   "source": []
  }
 ],
 "metadata": {
  "kernelspec": {
   "display_name": "Python 3 (ipykernel)",
   "language": "python",
   "name": "python3"
  },
  "language_info": {
   "codemirror_mode": {
    "name": "ipython",
    "version": 3
   },
   "file_extension": ".py",
   "mimetype": "text/x-python",
   "name": "python",
   "nbconvert_exporter": "python",
   "pygments_lexer": "ipython3",
   "version": "3.9.7"
  }
 },
 "nbformat": 4,
 "nbformat_minor": 5
}
